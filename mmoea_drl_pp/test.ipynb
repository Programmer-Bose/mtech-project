{
 "cells": [
  {
   "cell_type": "code",
   "execution_count": 1,
   "id": "8ccb07a4",
   "metadata": {},
   "outputs": [],
   "source": [
    "# import torch\n",
    "# import torch.nn as nn\n",
    "# import torch.nn.functional as F\n",
    "import random\n",
    "import numpy as np"
   ]
  },
  {
   "cell_type": "code",
   "execution_count": 2,
   "id": "e0442ce2",
   "metadata": {},
   "outputs": [],
   "source": [
    "def generate_individual(num_tasks, num_robots):\n",
    "    tasks = list(range(num_tasks))\n",
    "    random.shuffle(tasks)\n",
    "\n",
    "    # Evenly distribute tasks (some robots may have 1 more/less)\n",
    "    splits = np.array_split(tasks, num_robots)\n",
    "    return [list(s) for s in splits]\n"
   ]
  },
  {
   "cell_type": "code",
   "execution_count": 3,
   "id": "c8cf324c",
   "metadata": {},
   "outputs": [
    {
     "name": "stdout",
     "output_type": "stream",
     "text": [
      "[[2, 5, 15, 19, 9, 16, 0], [8, 10, 17, 18, 3, 12, 11], [13, 14, 6, 4, 7, 1]]\n",
      "[[13, 12, 18, 9, 4, 16, 1], [5, 6, 3, 7, 17, 0, 15], [2, 10, 19, 8, 14, 11]]\n",
      "[[7, 10, 2, 12, 15, 9, 3], [11, 0, 5, 6, 16, 1, 4], [14, 18, 17, 19, 13, 8]]\n",
      "[[4, 3, 17, 8, 7, 6, 2], [9, 1, 16, 14, 13, 10, 15], [11, 19, 18, 12, 5, 0]]\n",
      "[[7, 11, 15, 0, 10, 18, 4], [2, 1, 3, 6, 8, 19, 16], [5, 13, 14, 12, 9, 17]]\n"
     ]
    }
   ],
   "source": [
    "for _ in range(5):  # Generate 5 examples\n",
    "    print(generate_individual(num_tasks=20, num_robots=3))    \n"
   ]
  },
  {
   "cell_type": "code",
   "execution_count": 5,
   "id": "0eeb4693",
   "metadata": {},
   "outputs": [],
   "source": [
    "def generate_individual(num_tasks, num_robots):\n",
    "    tasks = list(range(num_tasks))\n",
    "    random.shuffle(tasks)\n",
    "\n",
    "    # Generate random split sizes that sum to num_tasks\n",
    "    split_sizes = [0] * num_robots\n",
    "    for _ in range(num_tasks):\n",
    "        split_sizes[random.randint(0, num_robots - 1)] += 1\n",
    "\n",
    "    # Distribute tasks accordingly\n",
    "    individual = []\n",
    "    index = 0\n",
    "    for size in split_sizes:\n",
    "        individual.append(tasks[index:index+size])\n",
    "        index += size\n",
    "    # Ensure all tasks are assigned\n",
    "    assert sum(split_sizes) == num_tasks, \"Not all tasks assigned!\"\n",
    "    # print(individual)\n",
    "    return individual"
   ]
  },
  {
   "cell_type": "code",
   "execution_count": 6,
   "id": "0d85179d",
   "metadata": {},
   "outputs": [
    {
     "name": "stdout",
     "output_type": "stream",
     "text": [
      "[[1, 8, 0, 16, 17, 18, 14, 9, 19, 7], [11, 4, 6, 15, 10, 5], [2, 13, 12, 3]]\n",
      "[[0, 4, 11, 10, 15, 2, 3], [6, 8, 13, 16, 7, 9, 12], [5, 17, 1, 19, 18, 14]]\n",
      "[[9, 3, 13, 15, 19, 5, 4], [7, 10, 2, 12, 11, 17, 1], [0, 16, 6, 14, 18, 8]]\n",
      "[[2, 9, 13, 14, 11, 16, 1, 3, 15], [19, 12, 17, 5, 18], [8, 10, 6, 7, 0, 4]]\n",
      "[[19, 10, 8, 3, 13, 17, 14, 1, 12, 11], [0, 9, 7, 2], [18, 15, 6, 4, 5, 16]]\n"
     ]
    }
   ],
   "source": [
    "for _ in range(5):  # Generate 5 examples\n",
    "    print(generate_individual(num_tasks=20, num_robots=3))    "
   ]
  }
 ],
 "metadata": {
  "kernelspec": {
   "display_name": "new_mlag",
   "language": "python",
   "name": "python3"
  },
  "language_info": {
   "codemirror_mode": {
    "name": "ipython",
    "version": 3
   },
   "file_extension": ".py",
   "mimetype": "text/x-python",
   "name": "python",
   "nbconvert_exporter": "python",
   "pygments_lexer": "ipython3",
   "version": "3.10.11"
  }
 },
 "nbformat": 4,
 "nbformat_minor": 5
}

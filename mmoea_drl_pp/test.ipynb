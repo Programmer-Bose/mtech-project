{
 "cells": [
  {
   "cell_type": "code",
   "execution_count": 1,
   "id": "8ccb07a4",
   "metadata": {},
   "outputs": [],
   "source": [
    "# import torch\n",
    "# import torch.nn as nn\n",
    "# import torch.nn.functional as F\n",
    "import random\n",
    "import numpy as np"
   ]
  },
  {
   "cell_type": "code",
   "execution_count": 32,
   "id": "e0442ce2",
   "metadata": {},
   "outputs": [],
   "source": [
    "# def generate_individual(num_tasks, num_robots):\n",
    "#     tasks = list(range(num_tasks))\n",
    "#     random.shuffle(tasks)\n",
    "\n",
    "#     # Evenly distribute tasks (some robots may have 1 more/less)\n",
    "#     splits = np.array_split(tasks, num_robots)\n",
    "#     return [list(s) for s in splits]\n"
   ]
  },
  {
   "cell_type": "code",
   "execution_count": 3,
   "id": "c8cf324c",
   "metadata": {},
   "outputs": [
    {
     "name": "stdout",
     "output_type": "stream",
     "text": [
      "[[2, 5, 15, 19, 9, 16, 0], [8, 10, 17, 18, 3, 12, 11], [13, 14, 6, 4, 7, 1]]\n",
      "[[13, 12, 18, 9, 4, 16, 1], [5, 6, 3, 7, 17, 0, 15], [2, 10, 19, 8, 14, 11]]\n",
      "[[7, 10, 2, 12, 15, 9, 3], [11, 0, 5, 6, 16, 1, 4], [14, 18, 17, 19, 13, 8]]\n",
      "[[4, 3, 17, 8, 7, 6, 2], [9, 1, 16, 14, 13, 10, 15], [11, 19, 18, 12, 5, 0]]\n",
      "[[7, 11, 15, 0, 10, 18, 4], [2, 1, 3, 6, 8, 19, 16], [5, 13, 14, 12, 9, 17]]\n"
     ]
    }
   ],
   "source": [
    "for _ in range(5):  # Generate 5 examples\n",
    "    print(generate_individual(num_tasks=20, num_robots=3))    \n"
   ]
  },
  {
   "cell_type": "code",
   "execution_count": 33,
   "id": "0eeb4693",
   "metadata": {},
   "outputs": [],
   "source": [
    "def generate_individual(num_tasks, num_robots):\n",
    "    tasks = list(range(num_tasks))\n",
    "    random.shuffle(tasks)\n",
    "\n",
    "    # Generate random split sizes that sum to num_tasks\n",
    "    split_sizes = [0] * num_robots\n",
    "    for _ in range(num_tasks):\n",
    "        split_sizes[random.randint(0, num_robots - 1)] += 1\n",
    "\n",
    "    # Distribute tasks accordingly\n",
    "    individual = []\n",
    "    index = 0\n",
    "    for size in split_sizes:\n",
    "        individual.append(tasks[index:index+size])\n",
    "        index += size\n",
    "    # Ensure all tasks are assigned\n",
    "    assert sum(split_sizes) == num_tasks, \"Not all tasks assigned!\"\n",
    "    # print(individual)\n",
    "    return individual"
   ]
  },
  {
   "cell_type": "code",
   "execution_count": 6,
   "id": "0d85179d",
   "metadata": {},
   "outputs": [
    {
     "name": "stdout",
     "output_type": "stream",
     "text": [
      "[[1, 8, 0, 16, 17, 18, 14, 9, 19, 7], [11, 4, 6, 15, 10, 5], [2, 13, 12, 3]]\n",
      "[[0, 4, 11, 10, 15, 2, 3], [6, 8, 13, 16, 7, 9, 12], [5, 17, 1, 19, 18, 14]]\n",
      "[[9, 3, 13, 15, 19, 5, 4], [7, 10, 2, 12, 11, 17, 1], [0, 16, 6, 14, 18, 8]]\n",
      "[[2, 9, 13, 14, 11, 16, 1, 3, 15], [19, 12, 17, 5, 18], [8, 10, 6, 7, 0, 4]]\n",
      "[[19, 10, 8, 3, 13, 17, 14, 1, 12, 11], [0, 9, 7, 2], [18, 15, 6, 4, 5, 16]]\n"
     ]
    }
   ],
   "source": [
    "for _ in range(5):  # Generate 5 examples\n",
    "    print(generate_individual(num_tasks=20, num_robots=3))    "
   ]
  },
  {
   "cell_type": "code",
   "execution_count": 6,
   "id": "e755fbfb",
   "metadata": {},
   "outputs": [],
   "source": [
    "import random\n",
    "\n",
    "def flatten(individual):\n",
    "    return [task for robot in individual for task in robot]\n",
    "\n",
    "def unflatten(flat, num_robots):\n",
    "    \"\"\"Random uneven split of flat list into num_robots sublists\"\"\"\n",
    "    splits = [0] * num_robots\n",
    "    for _ in flat:\n",
    "        splits[random.randint(0, num_robots - 1)] += 1\n",
    "\n",
    "    robot_seq, idx = [], 0\n",
    "    for count in splits:\n",
    "        robot_seq.append(flat[idx:idx+count])\n",
    "        idx += count\n",
    "    return robot_seq\n",
    "\n",
    "def apply_order_shift(base_seq, diff_seq, F=0.5):\n",
    "    \"\"\"\n",
    "    base_seq: original task order (list of task IDs)\n",
    "    diff_seq: task order difference (list of task IDs)\n",
    "    F: float between 0 and 1\n",
    "    \"\"\"\n",
    "    new_seq = base_seq[:]\n",
    "    task_indices = {task: i for i, task in enumerate(new_seq)}\n",
    "\n",
    "    for i in range(len(new_seq)):\n",
    "        if random.random() < F and new_seq[i] != diff_seq[i]:\n",
    "            t1 = new_seq[i]\n",
    "            t2 = diff_seq[i]\n",
    "            j = task_indices[t2]\n",
    "            # Swap t1 and t2 in new_seq\n",
    "            new_seq[i], new_seq[j] = new_seq[j], new_seq[i]\n",
    "            # Update mapping\n",
    "            task_indices[t1], task_indices[t2] = task_indices[t2], task_indices[t1]\n",
    "    return new_seq\n",
    "\n",
    "def de_generate_offspring(x1, x2, x3, num_robots, F=0.5):\n",
    "    \"\"\"\n",
    "    Differential evolution-inspired permutation operator\n",
    "    \"\"\"\n",
    "    flat1 = flatten(x1)\n",
    "    flat2 = flatten(x2)\n",
    "    flat3 = flatten(x3)\n",
    "\n",
    "    assert set(flat1) == set(flat2) == set(flat3), \"Inconsistent task sets\"\n",
    "\n",
    "    # Difference in order\n",
    "    diff = [t2 for t2 in flat2 if t2 in flat3]\n",
    "    print(\"Difference in order:\", diff)\n",
    "\n",
    "    # Recombine\n",
    "    mutant = apply_order_shift(flat1, diff, F=F)\n",
    "\n",
    "    # Redistribute unevenly\n",
    "    return unflatten(mutant, num_robots)\n"
   ]
  },
  {
   "cell_type": "code",
   "execution_count": 7,
   "id": "4b6b566c",
   "metadata": {},
   "outputs": [
    {
     "name": "stdout",
     "output_type": "stream",
     "text": [
      "Difference in order: [2, 7, 17, 13, 12, 1, 0, 8, 6, 10, 19, 5, 4, 18, 11, 15, 3, 14, 16, 9]\n",
      "Parent 1: [[9, 11, 10, 12, 13, 0, 6], [4, 1, 3, 17, 2, 18, 15], [19, 5, 7, 8, 14, 16]]\n",
      "Parent 2: [[2, 7, 17, 13, 12, 1, 0], [8, 6, 10, 19, 5, 4, 18], [11, 15, 3, 14, 16, 9]]\n",
      "Parent 3: [[12, 13, 1, 2, 18, 4, 10], [16, 14, 5, 6, 7, 17, 8], [11, 19, 9, 3, 15, 0]]\n",
      "Child: [[14, 19, 17, 12, 13, 1, 0, 8, 6, 10], [7, 5, 4, 18, 11], [2, 3, 15, 16, 9]]\n"
     ]
    }
   ],
   "source": [
    "parent1 = generate_individual(num_tasks=20, num_robots=3)\n",
    "parent2 = generate_individual(num_tasks=20, num_robots=3)\n",
    "parent3 = generate_individual(num_tasks=20, num_robots=3)\n",
    "# 3 parents selected from population\n",
    "child = de_generate_offspring(parent1, parent2, parent3, num_robots=3, F=0.7)\n",
    "\n",
    "print(\"Parent 1:\", parent1)\n",
    "print(\"Parent 2:\", parent2)\n",
    "print(\"Parent 3:\", parent3)\n",
    "print(\"Child:\", child)\n"
   ]
  },
  {
   "cell_type": "code",
   "execution_count": 3,
   "id": "2dc0042e",
   "metadata": {},
   "outputs": [
    {
     "name": "stdout",
     "output_type": "stream",
     "text": [
      "Generated TASK_COORDINATES: {0: (0.69705, 0.65912), 1: (0.72966, 0.74986), 2: (0.1696, 0.0068), 3: (0.84208, 0.32632), 4: (0.83636, 0.36766), 5: (0.89403, 0.81913), 6: (0.10039, 0.20462), 7: (0.54908, 0.06478), 8: (0.13489, 0.9508), 9: (0.06335, 0.23856), 10: (0.79052, 0.4825), 11: (0.37287, 0.58046), 12: (0.78679, 0.00468), 13: (0.85591, 0.9104), 14: (0.03169, 0.23075), 15: (0.16304, 0.64752), 16: (0.56675, 0.21116), 17: (0.09113, 0.81652), 18: (0.52155, 0.74205), 19: (0.39718, 0.93534), 20: (0.12136, 0.68844), 21: (0.60087, 0.20341), 22: (0.85873, 0.20238), 23: (0.56802, 0.30087), 24: (0.34087, 0.24421), 25: (0.69079, 0.22627), 26: (0.77693, 0.21814), 27: (0.23676, 0.75051), 28: (0.57872, 0.44212), 29: (0.8314, 0.28604)}\n"
     ]
    }
   ],
   "source": [
    "# Random positions for other tasks\n",
    "TASK_COORDINATES = {}\n",
    "for tid in range(0, 30):\n",
    "    x = round(random.uniform(0, 1), 5)\n",
    "    y = round(random.uniform(0, 1), 5)\n",
    "    TASK_COORDINATES[tid] = (x, y)\n",
    "#print the TASK_COORDINATES\n",
    "print(f\"Generated TASK_COORDINATES: {TASK_COORDINATES}\")"
   ]
  },
  {
   "cell_type": "code",
   "execution_count": 80,
   "id": "6536bcf1",
   "metadata": {},
   "outputs": [],
   "source": [
    "import numpy as np\n",
    "import random\n",
    "\n",
    "def de_generate_offspring_allocation(x_i, x_r1, x_r2, x_r3, F=0.5, CR=0.7, num_robots=3):\n",
    "    x_i = np.array(x_i)\n",
    "    x_r1 = np.array(x_r1)\n",
    "    x_r2 = np.array(x_r2)\n",
    "    x_r3 = np.array(x_r3)\n",
    "\n",
    "    print(\"x_i:\", x_i)\n",
    "    print(\"x_r1:\", x_r1)    \n",
    "    print(\"x_r2:\", x_r2)\n",
    "    print(\"x_r3:\", x_r3)\n",
    "    # Mutation in robot ID space (values between 0 and num_robots - 1)\n",
    "    diff = x_r2 - x_r3\n",
    "    mutant = x_r1 + F * diff\n",
    "\n",
    "    # Add small noise to reduce bias, then floor and clamp\n",
    "    mutant += np.random.uniform(-0.3, 0.3, size=mutant.shape)\n",
    "    mutant = np.floor(mutant).astype(int)\n",
    "    mutant = np.clip(mutant, 0, num_robots - 1)\n",
    "\n",
    "    u_i = []\n",
    "    j_rand = random.randint(0, len(x_i) - 1)\n",
    "\n",
    "    for j in range(len(x_i)):\n",
    "        r = random.random()\n",
    "        if r < CR or j == j_rand:\n",
    "            u_i.append(mutant[j])\n",
    "        else:\n",
    "            u_i.append(x_i[j])\n",
    "\n",
    "    return u_i\n",
    "\n",
    "def allocation_vector_to_robot_tasks(allocation_vector, num_robots):\n",
    "    task_allocation = [[] for _ in range(num_robots)]\n",
    "    for task_id, robot_id in enumerate(allocation_vector):\n",
    "        robot_id = min(max(int(robot_id), 0), num_robots - 1)  # Ensure valid index\n",
    "        task_allocation[robot_id].append(task_id)\n",
    "    return task_allocation\n",
    "\n",
    "def flatten(individual):\n",
    "    return [task for robot in individual for task in robot]\n",
    "\n",
    "def generate_offspring(parent, exemplar, mutation_prob=0.5, use_de=True, r1=None, r2=None, r3=None, F=0.5, CR=0.7):\n",
    "    \"\"\"\n",
    "    Args:\n",
    "        parent, exemplar: both are list-of-lists task sequences (robot-wise)\n",
    "        use_de: whether to apply DE operator\n",
    "        r1, r2, r3: optional DE parents (in list-of-lists form)\n",
    "\n",
    "    Returns:\n",
    "        new_individual: mutated child\n",
    "    \"\"\"\n",
    "    num_robots = len(parent)\n",
    "    tasks = set(t for r in parent for t in r)\n",
    "\n",
    "    if use_de and r1 and r2 and r3:\n",
    "        # Convert to allocation vector representation\n",
    "        def to_allocation_vector(ind):\n",
    "            vec = [0] * sum(len(r) for r in ind)\n",
    "            for r_id, task_list in enumerate(ind):\n",
    "                for t in task_list:\n",
    "                    vec[t] = r_id\n",
    "            return vec\n",
    "\n",
    "        x_i = to_allocation_vector(parent)\n",
    "        x_r1 = to_allocation_vector(r1)\n",
    "        x_r2 = to_allocation_vector(r2)\n",
    "        x_r3 = to_allocation_vector(r3)\n",
    "\n",
    "        allocation_vec = de_generate_offspring_allocation(x_i, x_r1, x_r2, x_r3, F=F, CR=CR, num_robots=num_robots)\n",
    "        allocation_vec = [min(max(int(rid), 0), num_robots - 1) for rid in allocation_vec]\n",
    "        return allocation_vector_to_robot_tasks(allocation_vec, num_robots)\n",
    "\n",
    "    # Otherwise use original exemplar-based mutation\n",
    "    ex_flat = [t for r in exemplar for t in r if t in tasks]\n",
    "    new_seq = ex_flat.copy()\n",
    "\n",
    "    if random.random() < mutation_prob:\n",
    "        for _ in range(3):\n",
    "            i, j = random.sample(range(len(new_seq)), 2)\n",
    "            new_seq[i], new_seq[j] = new_seq[j], new_seq[i]\n",
    "\n",
    "    splits = [0] * num_robots\n",
    "    for _ in new_seq:\n",
    "        splits[random.randint(0, num_robots - 1)] += 1\n",
    "\n",
    "    robot_seq, idx = [], 0\n",
    "    for s in splits:\n",
    "        robot_seq.append(new_seq[idx:idx + s])\n",
    "        idx += s\n",
    "\n",
    "    return robot_seq\n"
   ]
  },
  {
   "cell_type": "code",
   "execution_count": 84,
   "id": "f5d46647",
   "metadata": {},
   "outputs": [
    {
     "name": "stdout",
     "output_type": "stream",
     "text": [
      "x_i: [0 2 3 1 3 1 2 2 0 3 2 2 3 1 3 2 1 1 0 1]\n",
      "x_r1: [0 0 2 3 1 3 2 3 0 2 1 3 3 3 2 2 1 2 3 3]\n",
      "x_r2: [3 0 2 0 3 3 3 3 2 3 3 2 0 3 0 3 2 0 1 2]\n",
      "x_r3: [0 2 3 1 3 1 2 2 0 3 2 2 3 1 3 2 1 1 0 1]\n",
      "Parent: [[8, 18, 0], [17, 19, 13, 5, 3, 16], [15, 1, 10, 11, 6, 7], [9, 2, 4, 12, 14]]\n",
      "Exemplar: [[3, 1, 12, 14, 17], [18], [8, 11, 2, 19, 16], [10, 4, 9, 6, 0, 15, 5, 13, 7]]\n",
      "Child: [[0, 1, 8, 12, 14], [2, 5, 10, 16, 17], [3, 6, 9, 15], [4, 7, 11, 13, 18, 19]]\n"
     ]
    }
   ],
   "source": [
    "# example usage\n",
    "parent = generate_individual(num_tasks=20, num_robots=4)\n",
    "exemplar = generate_individual(num_tasks=20, num_robots=4)\n",
    "r1 = generate_individual(num_tasks=20, num_robots=4)\n",
    "child = generate_offspring(parent, exemplar, use_de=True, r1=r1, r2=exemplar, r3=parent, F=0.7)\n",
    "print(\"Parent:\", parent)\n",
    "print(\"Exemplar:\", exemplar)\n",
    "print(\"Child:\", child)"
   ]
  }
 ],
 "metadata": {
  "kernelspec": {
   "display_name": "new_mlag",
   "language": "python",
   "name": "python3"
  },
  "language_info": {
   "codemirror_mode": {
    "name": "ipython",
    "version": 3
   },
   "file_extension": ".py",
   "mimetype": "text/x-python",
   "name": "python",
   "nbconvert_exporter": "python",
   "pygments_lexer": "ipython3",
   "version": "3.10.11"
  }
 },
 "nbformat": 4,
 "nbformat_minor": 5
}

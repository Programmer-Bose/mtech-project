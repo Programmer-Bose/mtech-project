{
 "cells": [
  {
   "cell_type": "markdown",
   "id": "8564b884",
   "metadata": {},
   "source": [
    "## Test Section : FAILED"
   ]
  },
  {
   "cell_type": "code",
   "execution_count": 3,
   "id": "c34cc7b5",
   "metadata": {},
   "outputs": [],
   "source": [
    "import torch\n",
    "import torch.nn as nn\n",
    "import torch.nn.functional as F\n",
    "import torch.optim as optim\n",
    "import matplotlib.pyplot as plt\n",
    "from tqdm import tqdm\n"
   ]
  },
  {
   "cell_type": "markdown",
   "id": "8ad73996",
   "metadata": {},
   "source": [
    "#### Encoder"
   ]
  },
  {
   "cell_type": "code",
   "execution_count": 4,
   "id": "e89fc131",
   "metadata": {},
   "outputs": [],
   "source": [
    "class TaskEncoder(nn.Module):\n",
    "    def __init__(self, embedding_dim=128):\n",
    "        super().__init__()\n",
    "        self.ff_layer = nn.Linear(2, embedding_dim)\n",
    "        self.gru_encoder = nn.GRU(input_size=embedding_dim, hidden_size=embedding_dim, batch_first=True)\n",
    "\n",
    "    def forward(self, input_coords):\n",
    "        embedded = self.ff_layer(input_coords)\n",
    "        encoder_outputs, hidden = self.gru_encoder(embedded)\n",
    "        return embedded, encoder_outputs, hidden\n",
    "    \n"
   ]
  },
  {
   "cell_type": "markdown",
   "id": "e6b42841",
   "metadata": {},
   "source": [
    "#### Example usage of Encoder"
   ]
  },
  {
   "cell_type": "code",
   "execution_count": null,
   "id": "b0d67038",
   "metadata": {},
   "outputs": [],
   "source": [
    "# Task point coordinates: 4 tasks, each with (x, y)\n",
    "input_coords = torch.tensor([\n",
    "    [2.0, 3.0],\n",
    "    [5.0, 1.0],\n",
    "    [6.0, 4.0],\n",
    "    [1.0, 2.0]\n",
    "], dtype=torch.float32).unsqueeze(0)  # shape: (1, 4, 2) → batch_size = 1\n",
    "\n",
    "# Example usage:\n",
    "encoder = TaskEncoder(embedding_dim=128)\n",
    "embedded, encoder_outputs, hidden2 = encoder(input_coords)\n",
    "print(\"Embedded shape     :\", embedded.shape)\n",
    "print(\"Encoder output shape:\", encoder_outputs.shape)\n",
    "print(\"Hidden state shape :\", hidden2.shape)\n"
   ]
  },
  {
   "cell_type": "markdown",
   "id": "3d45bef2",
   "metadata": {},
   "source": [
    "#### Attention"
   ]
  },
  {
   "cell_type": "code",
   "execution_count": 5,
   "id": "67f84188",
   "metadata": {},
   "outputs": [],
   "source": [
    "class Attention(nn.Module):\n",
    "    def __init__(self, hidden_dim):\n",
    "        super().__init__()\n",
    "        self.W1 = nn.Linear(hidden_dim, hidden_dim, bias=False)\n",
    "        self.W2 = nn.Linear(hidden_dim, hidden_dim, bias=False)\n",
    "        self.v = nn.Linear(hidden_dim, 1, bias=False)\n",
    "\n",
    "    def forward(self, decoder_hidden, encoder_outputs, mask):\n",
    "        # decoder_hidden: (1, batch, hidden_dim) → (batch, 1, hidden_dim)\n",
    "        decoder_hidden = decoder_hidden.transpose(0, 1)\n",
    "        # encoder_outputs: (batch, seq_len, hidden_dim)\n",
    "        score = self.v(torch.tanh(self.W1(encoder_outputs) + self.W2(decoder_hidden)))  # (batch, seq, 1)\n",
    "        score = score.squeeze(-1)  # (batch, seq)\n",
    "        score[mask == 0] = -1e9   # Mask out already visited tasks\n",
    "        attn_weights = F.softmax(score, dim=-1)\n",
    "        return attn_weights"
   ]
  },
  {
   "cell_type": "markdown",
   "id": "ff5a5b35",
   "metadata": {},
   "source": [
    "#### Decoder"
   ]
  },
  {
   "cell_type": "code",
   "execution_count": 6,
   "id": "dc1653b3",
   "metadata": {},
   "outputs": [],
   "source": [
    "class Decoder(nn.Module):\n",
    "    def __init__(self, embedding_dim, hidden_dim):\n",
    "        super().__init__()\n",
    "        self.gru = nn.GRU(embedding_dim, hidden_dim, batch_first=True)\n",
    "        self.attention = Attention(hidden_dim)\n",
    "\n",
    "    def forward(self, decoder_input, hidden, encoder_outputs, mask):\n",
    "        output, hidden = self.gru(decoder_input, hidden)  # output: (batch, 1, hidden_dim)\n",
    "        attn_weights = self.attention(hidden, encoder_outputs, mask)  # (batch, seq_len)\n",
    "        return attn_weights, hidden"
   ]
  },
  {
   "cell_type": "markdown",
   "id": "bec3a7e7",
   "metadata": {},
   "source": [
    "#### Example Usage of Decoder and Attention"
   ]
  },
  {
   "cell_type": "code",
   "execution_count": null,
   "id": "85e1acba",
   "metadata": {},
   "outputs": [],
   "source": [
    "batch_size = 1\n",
    "seq_len = 4\n",
    "embedding_dim = hidden_dim = 128\n",
    "\n",
    "decoder_input = torch.randn(batch_size, 1, embedding_dim)      # initial SOS input\n",
    "encoder_outputs = torch.randn(batch_size, seq_len, hidden_dim) # output of encoder\n",
    "hidden = torch.randn(1, batch_size, hidden_dim)                # initial decoder hidden\n",
    "mask = torch.ones(batch_size, seq_len)                         # all tasks unvisited\n",
    "\n",
    "decoder = Decoder(embedding_dim, hidden_dim)\n",
    "attn_weights, next_hidden = decoder(decoder_input, hidden, encoder_outputs, mask)\n",
    "\n",
    "print(\"Attention Weights:\", attn_weights)\n",
    "print(\"Next Hidden State:\", next_hidden.shape)\n"
   ]
  },
  {
   "cell_type": "markdown",
   "id": "d80f9c09",
   "metadata": {},
   "source": [
    "#### Critic Network"
   ]
  },
  {
   "cell_type": "code",
   "execution_count": 7,
   "id": "c7d61a3d",
   "metadata": {},
   "outputs": [],
   "source": [
    "# --- Critic Network ---\n",
    "class Critic(nn.Module):\n",
    "    def __init__(self, hidden_dim):\n",
    "        super().__init__()\n",
    "        self.fc = nn.Sequential(\n",
    "            nn.Linear(hidden_dim, hidden_dim),\n",
    "            nn.ReLU(),\n",
    "            nn.Linear(hidden_dim, 1)\n",
    "        )\n",
    "\n",
    "    def forward(self, encoder_outputs):\n",
    "        # Mean pooling\n",
    "        pooled = encoder_outputs.mean(dim=1)\n",
    "        return self.fc(pooled).squeeze(-1)\n"
   ]
  },
  {
   "cell_type": "markdown",
   "id": "d7a7068e",
   "metadata": {},
   "source": [
    "#### Full Actor Loop Testing"
   ]
  },
  {
   "cell_type": "code",
   "execution_count": null,
   "id": "67f834d1",
   "metadata": {},
   "outputs": [],
   "source": [
    "# Parameters\n",
    "batch_size = 1\n",
    "seq_len = 6                 # number of tasks\n",
    "embedding_dim = hidden_dim = 128\n",
    "\n",
    "\n",
    "\n",
    "# Create random task coordinates within (0, 100)\n",
    "input_coords = torch.rand(batch_size, seq_len, 2) * 100\n",
    "# Mask to track visited tasks\n",
    "mask = torch.ones(batch_size, seq_len)           # 1 = not yet visited\n",
    "# Initial decoder input: learnable start token\n",
    "decoder_input = torch.randn(batch_size, 1, embedding_dim)\n",
    "\n",
    "# Initialize encoder\n",
    "encoder = TaskEncoder(embedding_dim=embedding_dim)\n",
    "# Decoder setup (reuse Decoder class from earlier)\n",
    "decoder = Decoder(embedding_dim, hidden_dim)\n",
    "\n",
    "# Pass through encoder\n",
    "embedded, encoder_outputs, encoder_hidden = encoder(input_coords)\n",
    "# Initialize decoder hidden state\n",
    "hidden = encoder_hidden\n",
    "\n",
    "\n",
    "# Store selected task indices\n",
    "selected_indices = []\n",
    "\n",
    "print(\"Input Coords:\", input_coords)\n",
    "\n",
    "# Loop over each decoding step (select 1 task per step)\n",
    "for step in range(seq_len):\n",
    "    attn_weights, hidden = decoder(decoder_input, hidden, encoder_outputs, mask)\n",
    "\n",
    "    # Greedily pick the highest attention score (unvisited task)\n",
    "    selected = torch.argmax(attn_weights, dim=1).item()\n",
    "    selected_indices.append(selected)\n",
    "\n",
    "    # Update mask to mark this task as visited\n",
    "    mask[0, selected] = 0\n",
    "\n",
    "    # Get the embedding of the selected task from encoder outputs as next input\n",
    "    decoder_input = encoder_outputs[0, selected].unsqueeze(0).unsqueeze(1)  # shape: (1, 1, 128)\n",
    "\n",
    "    #print attention weights for this step\n",
    "    print(f\"Step {step + 1} - Selected Task Index: {selected}, Attention Weights: {attn_weights}\")\n",
    "\n",
    "# Final visiting sequence\n",
    "print(\"Generated task visiting order:\", selected_indices)"
   ]
  },
  {
   "cell_type": "markdown",
   "id": "db135b61",
   "metadata": {},
   "source": [
    "### **Full Code of DRL Training**"
   ]
  },
  {
   "cell_type": "code",
   "execution_count": 39,
   "id": "50178c37",
   "metadata": {},
   "outputs": [],
   "source": [
    "\n",
    "# ----- Encoder -----\n",
    "class TaskEncoder(nn.Module):\n",
    "    def __init__(self, embedding_dim=128):\n",
    "        super().__init__()\n",
    "        self.ff_layer = nn.Linear(2, embedding_dim)\n",
    "        self.gru_encoder = nn.GRU(input_size=embedding_dim, hidden_size=embedding_dim, batch_first=True)\n",
    "\n",
    "    def forward(self, input_coords):\n",
    "        embedded = self.ff_layer(input_coords)\n",
    "        encoder_outputs, hidden = self.gru_encoder(embedded)\n",
    "        return embedded, encoder_outputs, hidden\n",
    "\n",
    "# ----- Attention -----\n",
    "class Attention(nn.Module):\n",
    "    def __init__(self, hidden_dim):\n",
    "        super().__init__()\n",
    "        self.W1 = nn.Linear(hidden_dim, hidden_dim, bias=False)\n",
    "        self.W2 = nn.Linear(hidden_dim, hidden_dim, bias=False)\n",
    "        self.v = nn.Linear(hidden_dim, 1, bias=False)\n",
    "\n",
    "    def forward(self, decoder_hidden, encoder_outputs, mask):\n",
    "        decoder_hidden = decoder_hidden.transpose(0, 1)  # (1, B, H) -> (B, 1, H)\n",
    "        score = self.v(torch.tanh(self.W1(encoder_outputs) + self.W2(decoder_hidden)))  # (B, S, 1)\n",
    "        score = score.squeeze(-1)\n",
    "        score[mask == 0] = -1e9  # Mask visited\n",
    "        attn_weights = F.softmax(score, dim=-1)\n",
    "        return attn_weights\n",
    "\n",
    "# ----- Decoder -----\n",
    "class Decoder(nn.Module):\n",
    "    def __init__(self, embedding_dim, hidden_dim):\n",
    "        super().__init__()\n",
    "        self.gru = nn.GRU(embedding_dim, hidden_dim, batch_first=True)\n",
    "        self.attention = Attention(hidden_dim)\n",
    "\n",
    "    def forward(self, decoder_input, hidden, encoder_outputs, mask):\n",
    "        output, hidden = self.gru(decoder_input, hidden)\n",
    "        attn_weights = self.attention(hidden, encoder_outputs, mask)\n",
    "        return attn_weights, hidden\n",
    "\n",
    "# ----- Critic -----\n",
    "class Critic(nn.Module):\n",
    "    def __init__(self, hidden_dim):\n",
    "        super().__init__()\n",
    "        self.fc = nn.Sequential(\n",
    "            nn.Linear(hidden_dim, hidden_dim),\n",
    "            nn.ReLU(),\n",
    "            nn.Linear(hidden_dim, 1)\n",
    "        )\n",
    "\n",
    "    def forward(self, encoder_outputs):\n",
    "        pooled = encoder_outputs.mean(dim=1)\n",
    "        return self.fc(pooled).squeeze(-1)\n",
    "\n"
   ]
  },
  {
   "cell_type": "markdown",
   "id": "231a90ef",
   "metadata": {},
   "source": [
    "#### **Training**"
   ]
  },
  {
   "cell_type": "code",
   "execution_count": 67,
   "id": "a626797b",
   "metadata": {},
   "outputs": [
    {
     "name": "stderr",
     "output_type": "stream",
     "text": [
      "  0%|          | 0/1000 [00:00<?, ?it/s]"
     ]
    },
    {
     "name": "stderr",
     "output_type": "stream",
     "text": [
      "100%|██████████| 1000/1000 [57:24<00:00,  3.44s/it]\n"
     ]
    }
   ],
   "source": [
    "   \n",
    "    \n",
    "reward_history = []\n",
    "# ----- Training -----\n",
    "embedding_dim = hidden_dim = 256\n",
    "seq_len = 50\n",
    "batch_size = 1\n",
    "lr = 5e-4\n",
    "epochs = 20\n",
    "n_batches = 1000\n",
    "\n",
    "encoder = TaskEncoder(embedding_dim)\n",
    "decoder = Decoder(embedding_dim, hidden_dim)\n",
    "critic = Critic(hidden_dim)\n",
    "\n",
    "actor_optim = optim.Adam(list(encoder.parameters()) + list(decoder.parameters()), lr=lr)\n",
    "critic_optim = optim.Adam(critic.parameters(), lr=lr)\n",
    "\n",
    "for _ in tqdm(range(n_batches)):\n",
    "    input_coords = torch.rand(batch_size, seq_len, 2)\n",
    "\n",
    "    for epoch in range(epochs):\n",
    "        total_reward = 0\n",
    "        _, encoder_outputs, encoder_hidden = encoder(input_coords)\n",
    "\n",
    "        mask = torch.ones(batch_size, seq_len)\n",
    "        decoder_input = torch.randn(batch_size, 1, embedding_dim)\n",
    "        hidden = encoder_hidden\n",
    "        log_probs = []\n",
    "        tour = []\n",
    "\n",
    "        for _ in range(seq_len):\n",
    "            attn_weights, hidden = decoder(decoder_input, hidden, encoder_outputs, mask.clone())\n",
    "            dist = torch.distributions.Categorical(attn_weights)\n",
    "            selected = dist.sample()\n",
    "            # selected = torch.argmax(attn_weights, dim=1)\n",
    "            log_prob = dist.log_prob(selected)\n",
    "            log_probs.append(log_prob.squeeze())\n",
    "            idx = selected.item()\n",
    "            tour.append(idx)\n",
    "            mask = mask.clone()\n",
    "            mask.scatter_(1, torch.tensor([[idx]]), 0)  # safe scatter op\n",
    "            decoder_input = encoder_outputs[0, idx].detach().clone().unsqueeze(0).unsqueeze(1)\n",
    "\n",
    "        coords = input_coords[0][tour]\n",
    "        path = torch.cat([coords, coords[0].unsqueeze(0)], dim=0)\n",
    "        reward = -torch.norm(path[1:] - path[:-1], dim=1).sum()\n",
    "        total_reward += reward.item()\n",
    "\n",
    "        value = critic(encoder_outputs)\n",
    "        advantage = reward.detach() - value\n",
    "        actor_loss = -torch.stack(log_probs).sum() * advantage.detach()\n",
    "        critic_loss = (value - reward.detach()).pow(2).mean()\n",
    "\n",
    "        critic_optim.zero_grad()\n",
    "        critic_loss.backward(retain_graph=True)\n",
    "        critic_optim.step()\n",
    "        \n",
    "        actor_optim.zero_grad()\n",
    "        actor_loss.backward()\n",
    "        actor_optim.step()\n",
    "\n",
    "        \n",
    "    # print(f\"Epoch {epoch+1}/{epochs} - Actor Loss: {actor_loss.item():.4f}, Critic Loss: {critic_loss.item():.4f}\")\n",
    "\n",
    "# Save the trained models\n",
    "torch.save({\n",
    "    'encoder_state_dict': encoder.state_dict(),\n",
    "    'decoder_state_dict': decoder.state_dict(),\n",
    "    'critic_state_dict': critic.state_dict(),\n",
    "    'actor_optimizer_state_dict': actor_optim.state_dict(),\n",
    "    'critic_optimizer_state_dict': critic_optim.state_dict()\n",
    "}, 'tsp_actor_critic_02.pth')\n",
    "\n",
    "# plt.plot(reward_history)\n",
    "# plt.title(\"Reward over Epochs (fixed input)\")\n",
    "# plt.show()\n"
   ]
  },
  {
   "cell_type": "markdown",
   "id": "4f7520bc",
   "metadata": {},
   "source": [
    "#### **Evaluation**"
   ]
  },
  {
   "cell_type": "code",
   "execution_count": 134,
   "id": "e4017378",
   "metadata": {},
   "outputs": [
    {
     "name": "stderr",
     "output_type": "stream",
     "text": [
      "C:\\Users\\progr\\AppData\\Local\\Temp\\ipykernel_7404\\2910905248.py:6: FutureWarning: You are using `torch.load` with `weights_only=False` (the current default value), which uses the default pickle module implicitly. It is possible to construct malicious pickle data which will execute arbitrary code during unpickling (See https://github.com/pytorch/pytorch/blob/main/SECURITY.md#untrusted-models for more details). In a future release, the default value for `weights_only` will be flipped to `True`. This limits the functions that could be executed during unpickling. Arbitrary objects will no longer be allowed to be loaded via this mode unless they are explicitly allowlisted by the user via `torch.serialization.add_safe_globals`. We recommend you start setting `weights_only=True` for any use case where you don't have full control of the loaded file. Please open an issue on GitHub for any issues related to this experimental feature.\n",
      "  checkpoint = torch.load(model_path)\n"
     ]
    },
    {
     "name": "stdout",
     "output_type": "stream",
     "text": [
      "Model 1 better than Model 2: 89\n"
     ]
    }
   ],
   "source": [
    "# Load the trained models\n",
    "\n",
    "def test_model(model_path, embedding_dim=128):\n",
    "    embedding_dim = hidden_dim = embedding_dim\n",
    "    seq_len = 40\n",
    "    checkpoint = torch.load(model_path)\n",
    "    encoder = TaskEncoder(embedding_dim)\n",
    "    decoder = Decoder(embedding_dim, hidden_dim)\n",
    "    # critic = Critic(hidden_dim)\n",
    "    encoder.load_state_dict(checkpoint['encoder_state_dict'])\n",
    "    decoder.load_state_dict(checkpoint['decoder_state_dict'])\n",
    "    # critic.load_state_dict(checkpoint['critic_state_dict'])\n",
    "    encoder.eval()\n",
    "    decoder.eval()\n",
    "    # critic.eval()\n",
    "\n",
    "    # Inference on a new random TSP instance\n",
    "    with torch.no_grad():\n",
    "        test_input = torch.rand(1, seq_len, 2)\n",
    "        # print(test_input)\n",
    "        _, test_encoder_outputs, test_encoder_hidden = encoder(test_input)\n",
    "        test_mask = torch.ones(1, seq_len)\n",
    "        test_decoder_input = torch.randn(1, 1, embedding_dim)\n",
    "        test_hidden = test_encoder_hidden\n",
    "        test_tour = []\n",
    "        for _ in range(seq_len):\n",
    "            test_attn_weights, test_hidden = decoder(test_decoder_input, test_hidden, test_encoder_outputs, test_mask.clone())\n",
    "            test_selected = torch.argmax(test_attn_weights, dim=1).item()\n",
    "            test_tour.append(test_selected)\n",
    "            test_mask[0, test_selected] = 0\n",
    "            test_decoder_input = test_encoder_outputs[0, test_selected].unsqueeze(0).unsqueeze(1)\n",
    "        test_tour_coords = test_input[0][test_tour]\n",
    "        test_path = torch.cat([test_tour_coords, test_tour_coords[0].unsqueeze(0)], dim=0)\n",
    "        test_tour_length = torch.norm(test_path[1:] - test_path[:-1], dim=1).sum().item()\n",
    "\n",
    "    # print(\"Tour:\", test_tour)\n",
    "    # print(\"Tour length:\", test_tour_length)\n",
    "    # plot_path(test_path)\n",
    "    return test_tour_length\n",
    "\n",
    "M = 0\n",
    "for _ in range(100):\n",
    "    l1 = test_model('tsp_actor_critic.pth')\n",
    "    # test_model('tsp_actor_critic_01.pth')\n",
    "    l2 = test_model('tsp_actor_critic_02.pth',256)\n",
    "    \n",
    "    if l1 > l2:\n",
    "        M += 1\n",
    "print(\"Model 1 better than Model 2:\", M)"
   ]
  },
  {
   "cell_type": "code",
   "execution_count": 43,
   "id": "46c4e1db",
   "metadata": {},
   "outputs": [],
   "source": [
    "def plot_path(test_path):\n",
    "    plt.figure(figsize=(8, 8))\n",
    "    plt.plot(test_path[:, 0], test_path[:, 1], marker='o', linestyle='-', color='b', label='Path')\n",
    "\n",
    "    # Annotate each point with its visiting order\n",
    "    for i, (x, y) in enumerate(test_path[:-1]):  # skip the last point (duplicate of start)\n",
    "        plt.text(x, y + 0.02, str(i), fontsize=10, color='red', ha='center', va='center')\n",
    "\n",
    "    plt.scatter(test_path[0, 0], test_path[0, 1], color='green', s=100, label='Start')\n",
    "    plt.scatter(test_path[-2, 0], test_path[-2, 1], color='orange', s=100, label='End')\n",
    "    plt.title(\"TSP Path with Visiting Order using DRL\")\n",
    "    plt.xlabel(\"X\")\n",
    "    plt.ylabel(\"Y\")\n",
    "    plt.legend()\n",
    "    plt.grid(True)\n",
    "    plt.show()"
   ]
  }
 ],
 "metadata": {
  "kernelspec": {
   "display_name": "new_mlag",
   "language": "python",
   "name": "python3"
  },
  "language_info": {
   "codemirror_mode": {
    "name": "ipython",
    "version": 3
   },
   "file_extension": ".py",
   "mimetype": "text/x-python",
   "name": "python",
   "nbconvert_exporter": "python",
   "pygments_lexer": "ipython3",
   "version": "3.10.11"
  }
 },
 "nbformat": 4,
 "nbformat_minor": 5
}
